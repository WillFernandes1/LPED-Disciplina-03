{
 "cells": [
  {
   "cell_type": "code",
   "execution_count": 5,
   "metadata": {},
   "outputs": [],
   "source": [
    "import pandas as pd\n",
    "import re\n",
    "\n",
    "# Dados fornecidos\n",
    "dados = [\n",
    "    \"Maria da Silva Rua das Flores cep 12345678 Centro São Paulo São Paulo\",\n",
    "    \"João Oliveira Rua Bela Vista cep 54321876 Copacabana Rio de Janeiro Rio de Janeiro\",\n",
    "    \"Ana Souza Rua do Comércio cep 98765432 Boa Viagem Recife Pernambuco\",\n",
    "    \"Pedro Santos Rua das Palmeiras cep 45678901 Jardins São Paulo São Paulo\",\n",
    "    \"Carla Costa Rua Principal cep 87654321 Bairro Novo Curitiba Paraná\",\n",
    "    \"Fernando Lima Rua da Paz cep 23456789 Centro Fortaleza Ceará\",\n",
    "    \"Juliana Pereira Rua do Sol cep 78901234 Barra Salvador Bahia\",\n",
    "    \"Luiz Rodrigues Rua das Esperanças cep 56789012 Liberdade Belém Pará\",\n",
    "    \"Patrícia Almeida Rua das Árvores cep 34567890 Jardim Botânico Brasília Distrito Federal\",\n",
    "    \"Marcos Oliveira Rua Beira Mar cep 67890123 Praia de Iracema Fortaleza Ceará\"\n",
    "]"
   ]
  },
  {
   "cell_type": "code",
   "execution_count": 6,
   "metadata": {},
   "outputs": [],
   "source": [
    "# Dataset de Apoio\n",
    "df = pd.read_csv(\"data/ufs.csv\", header=None, names=[\"Estados\"])\n",
    "estados_df = df[\"Estados\"].tolist()"
   ]
  },
  {
   "cell_type": "code",
   "execution_count": 7,
   "metadata": {},
   "outputs": [],
   "source": [
    "# Inicializar listas para armazenar dados organizados\n",
    "nomes = []\n",
    "enderecos = []\n",
    "ceps = []\n",
    "bairros = []\n",
    "estados = []\n",
    "ultima_palavra_cidade = []"
   ]
  },
  {
   "cell_type": "code",
   "execution_count": 8,
   "metadata": {},
   "outputs": [],
   "source": [
    "for dado in dados:\n",
    "    # regex\n",
    "    match = re.match(r'^(.*?) Rua (.*?) cep (\\d+) (.+)$', dado)\n",
    "    if match:\n",
    "        nome, endereco, cep, dados_apos_cep = match.groups()\n",
    "\n",
    "       \n",
    "        cidade_estado_match = re.search(r'\\b(?:' + '|'.join(estados_df) + r')\\b', dados_apos_cep, flags=re.IGNORECASE)\n",
    "        if cidade_estado_match:\n",
    "            cidade_estado = cidade_estado_match.group()\n",
    "            cidade_index = dados_apos_cep.lower().index(cidade_estado.lower())\n",
    "            cidade = dados_apos_cep[:cidade_index].strip()\n",
    "            estado = cidade_estado\n",
    "        else:\n",
    "            cidade = \"\"\n",
    "            estado = \"\"\n",
    "\n",
    "        #adicionando informações nas listas\n",
    "        nomes.append(nome)\n",
    "        enderecos.append(f\"Rua {endereco}\")\n",
    "        ceps.append(cep)\n",
    "        bairros.append(cidade)\n",
    "        estados.append(estado)\n",
    "\n",
    "        # Extraindo ultima palavra\n",
    "        ultima_palavra = cidade.split()[-1] if cidade else \"\"\n",
    "        ultima_palavra_cidade.append(ultima_palavra)"
   ]
  },
  {
   "cell_type": "code",
   "execution_count": 9,
   "metadata": {},
   "outputs": [],
   "source": [
    "df = pd.DataFrame({\n",
    "    \"NOME\": nomes,\n",
    "    \"ENDEREÇO\": enderecos,\n",
    "    \"CEP\": ceps,\n",
    "    \"BAIRRO\": bairros,\n",
    "    \"CIDADE\": ultima_palavra_cidade,\n",
    "    \"ESTADO\": estados,\n",
    "   \n",
    "})"
   ]
  },
  {
   "cell_type": "code",
   "execution_count": 10,
   "metadata": {},
   "outputs": [
    {
     "name": "stdout",
     "output_type": "stream",
     "text": [
      "               NOME            ENDEREÇO       CEP                      BAIRRO  \\\n",
      "0    Maria da Silva      Rua das Flores  12345678                      Centro   \n",
      "1     João Oliveira      Rua Bela Vista  54321876                  Copacabana   \n",
      "2         Ana Souza     Rua do Comércio  98765432           Boa Viagem Recife   \n",
      "3      Pedro Santos   Rua das Palmeiras  45678901                     Jardins   \n",
      "4       Carla Costa       Rua Principal  87654321        Bairro Novo Curitiba   \n",
      "5     Fernando Lima          Rua da Paz  23456789            Centro Fortaleza   \n",
      "6   Juliana Pereira          Rua do Sol  78901234              Barra Salvador   \n",
      "7    Luiz Rodrigues  Rua das Esperanças  56789012             Liberdade Belém   \n",
      "8  Patrícia Almeida     Rua das Árvores  34567890    Jardim Botânico Brasília   \n",
      "9   Marcos Oliveira       Rua Beira Mar  67890123  Praia de Iracema Fortaleza   \n",
      "\n",
      "       CIDADE            ESTADO  \n",
      "0      Centro         São Paulo  \n",
      "1  Copacabana    Rio de Janeiro  \n",
      "2      Recife        Pernambuco  \n",
      "3     Jardins         São Paulo  \n",
      "4    Curitiba            Paraná  \n",
      "5   Fortaleza             Ceará  \n",
      "6    Salvador             Bahia  \n",
      "7       Belém              Pará  \n",
      "8    Brasília  Distrito Federal  \n",
      "9   Fortaleza             Ceará  \n"
     ]
    }
   ],
   "source": [
    "print(df)\n"
   ]
  },
  {
   "cell_type": "code",
   "execution_count": 11,
   "metadata": {},
   "outputs": [],
   "source": [
    "df.to_csv('dataset.csv',index=False)"
   ]
  }
 ],
 "metadata": {
  "kernelspec": {
   "display_name": "Python 3",
   "language": "python",
   "name": "python3"
  },
  "language_info": {
   "codemirror_mode": {
    "name": "ipython",
    "version": 3
   },
   "file_extension": ".py",
   "mimetype": "text/x-python",
   "name": "python",
   "nbconvert_exporter": "python",
   "pygments_lexer": "ipython3",
   "version": "3.11.4"
  }
 },
 "nbformat": 4,
 "nbformat_minor": 2
}
